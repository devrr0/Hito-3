{
 "cells": [
  {
   "cell_type": "code",
   "execution_count": 1,
   "id": "46a3d000-9caf-47e8-b9d5-2abda4e3f077",
   "metadata": {},
   "outputs": [],
   "source": [
    "import networkx as nx\n",
    "import pandas as pd\n",
    "import re\n",
    "import matplotlib.pyplot as plt\n",
    "import seaborn as sns\n",
    "import numpy as np\n",
    "import os\n",
    "\n",
    "df_path = os.getcwd() + \"\\\\DATA\\\\parsed_data_public.parquet\"\n",
    "\n",
    "# Cargar el archivo .parquet\n",
    "\n",
    "#df_raw = pd.read_parquet(\"C:\\\\Users\\\\tatan\\\\OneDrive\\\\Desktop\\\\Mineria_personal\\\\parsed_data_public.parquet\")\n",
    "df_raw = pd.read_parquet(df_path)\n"
   ]
  },
  {
   "cell_type": "code",
   "execution_count": 2,
   "id": "245cec04",
   "metadata": {},
   "outputs": [
    {
     "data": {
      "text/plain": [
       "Index(['Unnamed: 0', 'p_conf', 'd_astrology_seriosity', 'p_laidback',\n",
       "       'd_education_phase', 'p_drug', 'd_gender', 'p_lit', 'p_progress',\n",
       "       'd_income', 'p_roman', 'p_dominant', 'd_religion_type', 'd_drugs',\n",
       "       'p_polit', 'p_pure', 'lf_want', 'd_smokes', 'p_manners', 'p_submissive',\n",
       "       'p_inde', 'p_kinky', 'p_opti', 'p_sloppy', 'p_indie', 'p_introvert',\n",
       "       'd_astrology_sign', 'd_country', 'p_arro', 'p_ambi', 'd_drinks',\n",
       "       'p_cool', 'p_trusting', 'd_age', 'p_thrift', 'd_ethnicity', 'p_organ',\n",
       "       'p_sexdrive', 'd_offspring_current', 'd_bodytype', 'p_honest',\n",
       "       'lf_max_age', 'lf_for', 'p_expsex', 'p_artsy', 'p_scien', 'd_job',\n",
       "       'd_orientation', 'd_languages', 'p_spon', 'p_explife', 'd_relationship',\n",
       "       'd_offspring_desires', 'p_greed', 'p_capi', 'p_giving', 'p_explove',\n",
       "       'lf_location', 'p_convenmoral', 'p_aggre', 'p_kind', 'p_extro',\n",
       "       'p_friendstrangers', 'p_oldfash', 'p_comp', 'p_lovedri', 'p_sprit',\n",
       "       'lf_min_age', 'p_passion', 'd_education_type', 'p_energetic', 'p_exer',\n",
       "       'p_logic', 'lf_single', 'p_math', 'd_religion_seriosity', 'p_geeky',\n",
       "       'p_adven', 'CA', 'gender_orientation', 'gender', 'race', 'gender2',\n",
       "       'gender2_num', 'CA_items'],\n",
       "      dtype='object')"
      ]
     },
     "execution_count": 2,
     "metadata": {},
     "output_type": "execute_result"
    }
   ],
   "source": [
    "#filtrado inicial de df sin columnas q\n",
    "\n",
    "# Expresión regular para encontrar columnas que comienzan con 'q' seguida de un número\n",
    "pattern = r'^q\\d+'\n",
    "\n",
    "# Filtrar las columnas que NO cumplen con el patrón\n",
    "columnas_filtradas = [col for col in df_raw.columns if not re.match(pattern, col)]\n",
    "\n",
    "# Mostrar las columnas filtradas\n",
    "df = df_raw[columnas_filtradas]\n",
    "df.columns"
   ]
  },
  {
   "cell_type": "code",
   "execution_count": null,
   "id": "67c95750",
   "metadata": {},
   "outputs": [
    {
     "name": "stdout",
     "output_type": "stream",
     "text": [
      "(68371, 85)\n"
     ]
    },
    {
     "data": {
      "text/plain": [
       "lf_for\n",
       "For  new friends, long-term dating, short-term dating                24542\n",
       "For  new friends                                                     14803\n",
       "For  new friends, long-term dating                                    8300\n",
       "For  new friends, long-term dating, short-term dating, casual sex     5813\n",
       "For  long-term dating, short-term dating                              4520\n",
       "For  long-term dating                                                 3233\n",
       "For  new friends, short-term dating                                   1496\n",
       "For  new friends, short-term dating, casual sex                       1168\n",
       "For  long-term dating, short-term dating, casual sex                   787\n",
       "For  new friends, casual sex                                           470\n",
       "For  short-term dating                                                 399\n",
       "For  new friends, long-term dating, casual sex                         316\n",
       "For  casual sex                                                        255\n",
       "For  short-term dating, casual sex                                     203\n",
       "For  long-term dating, casual sex                                       60\n",
       "Name: count, dtype: int64"
      ]
     },
     "execution_count": 14,
     "metadata": {},
     "output_type": "execute_result"
    },
    {
     "ename": "",
     "evalue": "",
     "output_type": "error",
     "traceback": [
      "\u001b[1;31mThe Kernel crashed while executing code in the current cell or a previous cell. \n",
      "\u001b[1;31mPlease review the code in the cell(s) to identify a possible cause of the failure. \n",
      "\u001b[1;31mClick <a href='https://aka.ms/vscodeJupyterKernelCrash'>here</a> for more info. \n",
      "\u001b[1;31mView Jupyter <a href='command:jupyter.viewOutput'>log</a> for further details."
     ]
    }
   ],
   "source": [
    "print(df.shape)\n",
    "df[\"lf_for\"].value_counts()"
   ]
  },
  {
   "cell_type": "code",
   "execution_count": 4,
   "id": "d1df6f22",
   "metadata": {},
   "outputs": [],
   "source": [
    "#filtramos el df\n",
    "columnas_filtro = [col for col in df.columns if col[0:2]==\"lf\"] + [\"d_age\",\"d_country\",\"gender2\",\"d_relationship\"]\n",
    "\n",
    "# Col relevantes\n",
    "df_filtrado = df[columnas_filtro]\n",
    "\n",
    "# Filas en blancos\n",
    "df_filtrado = df_filtrado[df_filtrado.isna().sum(axis=1) == 0]\n",
    "\n",
    "# Generos sencillos\n",
    "df_filtrado = df_filtrado[df_filtrado[\"lf_want\"].isin([\"Women\",\"Men\",\"Everyone\"])]\n",
    "df_filtrado[\"lf_want\"] = df_filtrado[\"lf_want\"].replace(\"Men\",\"Man\")\n",
    "df_filtrado[\"lf_want\"] = df_filtrado[\"lf_want\"].replace(\"Women\",\"Woman\")\n",
    "\n",
    "# Paises comunes\n",
    "top_paises=df[\"d_country\"].value_counts().head(25).index\n",
    "df_filtrado = df_filtrado[df_filtrado[\"d_country\"].isin(top_paises)]\n",
    "\n",
    "# Solterx\n",
    "df_filtrado = df_filtrado[df_filtrado[\"d_relationship\"]==\"Single\"]\n"
   ]
  },
  {
   "cell_type": "code",
   "execution_count": 5,
   "id": "9e7ce712",
   "metadata": {},
   "outputs": [],
   "source": [
    "def w(i,j):\n",
    "    X=df_filtrado.iloc[i]\n",
    "    Y=df_filtrado.iloc[j]\n",
    "    \n",
    "    # AGE\n",
    "    X_AGE= int((X[\"lf_min_age\"] <= Y[\"d_age\"]) and (X[\"lf_max_age\"] >= Y[\"d_age\"]))\n",
    "    Y_AGE= int((Y[\"lf_min_age\"] <= X[\"d_age\"]) and (Y[\"lf_max_age\"] >= X[\"d_age\"]))\n",
    "    AGE = X_AGE*Y_AGE\n",
    "\n",
    "    # WANT\n",
    "    if X[\"lf_want\"] == \"Everyone\":\n",
    "        X_WANT=1\n",
    "    else:\n",
    "        X_WANT = int(X[\"lf_want\"] == Y[\"gender2\"])\n",
    "\n",
    "    if Y[\"lf_want\"] == \"Everyone\":\n",
    "        Y_WANT=1\n",
    "    else:\n",
    "        Y_WANT = int(Y[\"lf_want\"] == X[\"gender2\"])\n",
    "\n",
    "    WANT= X_WANT * Y_WANT\n",
    "    \n",
    "    # LOCATION\n",
    "    if (X[\"lf_location\"] == \"Near me\") or (Y[\"lf_location\"] == \"Near me\"):\n",
    "        LOC=int(X[\"d_country\"]==Y[\"d_country\"])\n",
    "    else:\n",
    "        LOC=1    \n",
    "\n",
    "    # FOR\n",
    "    x_list = X[\"lf_for\"].split(\", \")\n",
    "    y_list = Y[\"lf_for\"].split(\", \")\n",
    "    e_for = len(set(x_list) & set(y_list))\n",
    "    if e_for > 0:\n",
    "        FOR = 1\n",
    "    else:\n",
    "        FOR = 0\n",
    "    \n",
    "    return bool(AGE*WANT*LOC*FOR)"
   ]
  }
 ],
 "metadata": {
  "kernelspec": {
   "display_name": "Python 3",
   "language": "python",
   "name": "python3"
  },
  "language_info": {
   "codemirror_mode": {
    "name": "ipython",
    "version": 3
   },
   "file_extension": ".py",
   "mimetype": "text/x-python",
   "name": "python",
   "nbconvert_exporter": "python",
   "pygments_lexer": "ipython3",
   "version": "3.11.1"
  }
 },
 "nbformat": 4,
 "nbformat_minor": 5
}
